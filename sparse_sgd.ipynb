{
 "cells": [
  {
   "cell_type": "markdown",
   "metadata": {},
   "source": [
    "## logistic regression with sparse parameter SGD"
   ]
  },
  {
   "cell_type": "code",
   "execution_count": 1,
   "metadata": {},
   "outputs": [],
   "source": [
    "import numpy as np\n",
    "from scipy.sparse import csr_matrix\n",
    "import matplotlib.pyplot as plt\n",
    "import seaborn as sns\n",
    "\n",
    "%matplotlib inline"
   ]
  },
  {
   "cell_type": "code",
   "execution_count": 2,
   "metadata": {},
   "outputs": [],
   "source": [
    "# data generation\n",
    "from scipy.special import expit\n",
    "from scipy.sparse import rand as sparse_rand\n",
    "\n",
    "n = 10000\n",
    "p = 100\n",
    "\n",
    "rng = np.random.RandomState(800)\n",
    "X = csr_matrix(sparse_rand(n, p, density=.1))\n",
    "beta = rng.normal(0, 1, p)\n",
    "Xb = X.dot(beta)\n",
    "p = expit(Xb)\n",
    "y = rng.binomial(1, p)"
   ]
  },
  {
   "cell_type": "code",
   "execution_count": 3,
   "metadata": {},
   "outputs": [],
   "source": [
    "def update(X, y, beta_dict, gap_count, rng, it, nrow, eta, la):\n",
    "    ii = rng.randint(0, nrow)\n",
    "    x = X.getrow(ii)\n",
    "    A = x.indices\n",
    "    xA = x.data\n",
    "    betaA = np.zeros(A.shape)\n",
    "    pen = np.zeros(A.shape)\n",
    "\n",
    "    for jjA, jj in enumerate(A):\n",
    "        betaA[jjA] = beta_dict[jj]\n",
    "        pen[jjA] = (1 + eta * la) ** (it - gap_count[jj] - 1)\n",
    "        gap_count[jj] = it        \n",
    "\n",
    "    betaA = betaA * pen\n",
    "    xAbetaA = xA.dot(betaA)\n",
    "    grad_penalty = (y[ii] - expit(xAbetaA)) * xA - la * betaA\n",
    "    betaA = betaA + eta * grad_penalty\n",
    "\n",
    "    for jj, beta in zip(A, betaA):\n",
    "        beta_dict[jj] = beta\n",
    "\n",
    "\n",
    "def sparse_sgd(X, y, eta, la, seed, maxit=100):\n",
    "    nrow, p = X.shape\n",
    "    rng = np.random.RandomState(seed)\n",
    "\n",
    "    beta_dict = {}\n",
    "    gap_count = {}\n",
    "    for v in range(p):\n",
    "        beta_dict[v] = rng.normal(0, .001)\n",
    "        gap_count[v] = 0\n",
    "\n",
    "    it = 0\n",
    "    while it < maxit:\n",
    "        it += 1\n",
    "        update(X, y, beta_dict, gap_count, rng, it, nrow, eta, la)\n",
    "\n",
    "    beta = np.zeros(p)\n",
    "    for k in beta_dict:\n",
    "        beta[k] = beta_dict[k]\n",
    "\n",
    "    return beta"
   ]
  },
  {
   "cell_type": "code",
   "execution_count": 4,
   "metadata": {},
   "outputs": [],
   "source": [
    "betahat = sparse_sgd(X, y, eta=.001, la=.01, seed=123, maxit=100000)"
   ]
  },
  {
   "cell_type": "code",
   "execution_count": 5,
   "metadata": {},
   "outputs": [
    {
     "data": {
      "text/plain": [
       "<matplotlib.axes._subplots.AxesSubplot at 0x7efcb45a6048>"
      ]
     },
     "execution_count": 5,
     "metadata": {},
     "output_type": "execute_result"
    },
    {
     "data": {
      "image/png": "[encoded data removed]",
      "text/plain": [
       "<matplotlib.figure.Figure at 0x7efcb4596ba8>"
      ]
     },
     "metadata": {},
     "output_type": "display_data"
    }
   ],
   "source": [
    "sns.regplot(beta, betahat)"
   ]
  }
 ],
 "metadata": {
  "kernelspec": {
   "display_name": "Python 3",
   "language": "python",
   "name": "python3"
  },
  "language_info": {
   "codemirror_mode": {
    "name": "ipython",
    "version": 3
   },
   "file_extension": ".py",
   "mimetype": "text/x-python",
   "name": "python",
   "nbconvert_exporter": "python",
   "pygments_lexer": "ipython3",
   "version": "3.6.4"
  }
 },
 "nbformat": 4,
 "nbformat_minor": 2
}
